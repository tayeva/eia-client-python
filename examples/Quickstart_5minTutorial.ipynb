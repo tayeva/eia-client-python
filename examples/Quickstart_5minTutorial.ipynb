{
 "cells": [
  {
   "cell_type": "code",
   "execution_count": 1,
   "id": "36d0c66d",
   "metadata": {},
   "outputs": [],
   "source": [
    "import pandas as pd\n",
    "%matplotlib inline\n",
    "\n",
    "import eia_client as ec"
   ]
  },
  {
   "cell_type": "markdown",
   "id": "56389e3a",
   "metadata": {},
   "source": [
    "# Build an endpoint\n",
    "Assuming your API key is in your current environmental variables as EIA_API_KEY or you have it saved in `~/.eia.config` you can instantiatie ApiEndpointBuilder with no arguments."
   ]
  },
  {
   "cell_type": "code",
   "execution_count": 2,
   "id": "37ec539d",
   "metadata": {},
   "outputs": [],
   "source": [
    "total_energy = ec.endpoint.TotalEnergy(msn=\"ELETPUS\")\n",
    "endpoint = total_energy.build()"
   ]
  },
  {
   "cell_type": "markdown",
   "id": "92fbf15c",
   "metadata": {},
   "source": [
    "ELEPTUS is the \"mnemonic series name\" for Electricity Net Generation Total (including from sources not shown), All Sectors in Million Kilowatthours.\n",
    "\n",
    "It was found through the EIA API browser:\n",
    "\n",
    "https://www.eia.gov/opendata/browser/total-energy\n",
    "\n",
    "1. Click on link\n",
    "2. API ROUTE > Select route > Total Energy\n",
    "3. FREQUENCY > Select requency > Monthly\n",
    "4. FILTER BY FACET > Select Filter > Unique Series Identifier\n",
    "5. Search for the series you would like.\n",
    "\n"
   ]
  },
  {
   "cell_type": "markdown",
   "id": "640327a8",
   "metadata": {},
   "source": [
    "# Issue a GET request to the API\n",
    "\n",
    "<font color='red'>WARNING</font> The below cell issues a request to EIA's remote server, you only need to call it once."
   ]
  },
  {
   "cell_type": "code",
   "execution_count": 3,
   "id": "5564d67b",
   "metadata": {},
   "outputs": [],
   "source": [
    "client = ec.Client()\n",
    "resp = client.get(endpoint)"
   ]
  },
  {
   "cell_type": "code",
   "execution_count": 4,
   "id": "686685a6",
   "metadata": {},
   "outputs": [
    {
     "name": "stderr",
     "output_type": "stream",
     "text": [
      "status:500\n"
     ]
    }
   ],
   "source": [
    "df = ec.parse.as_dataframe(resp)"
   ]
  },
  {
   "cell_type": "code",
   "execution_count": 5,
   "id": "21f066e9",
   "metadata": {},
   "outputs": [
    {
     "data": {
      "text/plain": [
       "500"
      ]
     },
     "execution_count": 5,
     "metadata": {},
     "output_type": "execute_result"
    }
   ],
   "source": [
    "resp.status_code"
   ]
  },
  {
   "cell_type": "code",
   "execution_count": null,
   "id": "f4480b43",
   "metadata": {},
   "outputs": [],
   "source": [
    "series_description = df.seriesDescription[0]"
   ]
  },
  {
   "cell_type": "code",
   "execution_count": null,
   "id": "28e5a216",
   "metadata": {},
   "outputs": [],
   "source": [
    "df[\"period\"] = pd.to_datetime(df.period)"
   ]
  },
  {
   "cell_type": "code",
   "execution_count": null,
   "id": "38a03ba8",
   "metadata": {},
   "outputs": [],
   "source": [
    "df.set_index(\"period\", inplace=True)"
   ]
  },
  {
   "cell_type": "code",
   "execution_count": null,
   "id": "d9fb5f00",
   "metadata": {},
   "outputs": [],
   "source": [
    "df.head()"
   ]
  },
  {
   "cell_type": "code",
   "execution_count": null,
   "id": "afd42e4c",
   "metadata": {},
   "outputs": [],
   "source": [
    "df.value.describe()"
   ]
  },
  {
   "cell_type": "code",
   "execution_count": null,
   "id": "3cf66c28",
   "metadata": {},
   "outputs": [],
   "source": [
    "df.value.plot(title=series_description)"
   ]
  },
  {
   "cell_type": "code",
   "execution_count": null,
   "id": "d6f9c8bd",
   "metadata": {},
   "outputs": [],
   "source": []
  }
 ],
 "metadata": {
  "kernelspec": {
   "display_name": "Python 3 (ipykernel)",
   "language": "python",
   "name": "python3"
  },
  "language_info": {
   "codemirror_mode": {
    "name": "ipython",
    "version": 3
   },
   "file_extension": ".py",
   "mimetype": "text/x-python",
   "name": "python",
   "nbconvert_exporter": "python",
   "pygments_lexer": "ipython3",
   "version": "3.11.0"
  },
  "vscode": {
   "interpreter": {
    "hash": "2c21ac3c4299a2795ce02ddca293cabcc57dcafba6ae00d852920291cd204e6a"
   }
  }
 },
 "nbformat": 4,
 "nbformat_minor": 5
}
